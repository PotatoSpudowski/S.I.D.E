{
  "nbformat": 4,
  "nbformat_minor": 0,
  "metadata": {
    "colab": {
      "name": "03-Sentence_encoder+annoy_index_for_similarity_search.ipynb",
      "provenance": [],
      "collapsed_sections": [],
      "machine_shape": "hm"
    },
    "kernelspec": {
      "name": "python3",
      "display_name": "Python 3"
    }
  },
  "cells": [
    {
      "cell_type": "code",
      "metadata": {
        "id": "eG5freppyGvN",
        "colab_type": "code",
        "outputId": "fe945792-4e8a-4d3e-d367-999381cc2079",
        "colab": {
          "base_uri": "https://localhost:8080/",
          "height": 34
        }
      },
      "source": [
        "%tensorflow_version 2.x"
      ],
      "execution_count": 1,
      "outputs": [
        {
          "output_type": "stream",
          "text": [
            "TensorFlow 2.x selected.\n"
          ],
          "name": "stdout"
        }
      ]
    },
    {
      "cell_type": "code",
      "metadata": {
        "id": "2o18KNA-yRaK",
        "colab_type": "code",
        "outputId": "44925dd7-d7cf-4b00-e97a-59fcd7ae490d",
        "colab": {
          "base_uri": "https://localhost:8080/",
          "height": 136
        }
      },
      "source": [
        "!git clone https://github.com/PotatoSpudowski/S.I.D.E.git\n",
        "%cd S.I.D.E"
      ],
      "execution_count": 2,
      "outputs": [
        {
          "output_type": "stream",
          "text": [
            "Cloning into 'S.I.D.E'...\n",
            "remote: Enumerating objects: 78, done.\u001b[K\n",
            "remote: Counting objects: 100% (78/78), done.\u001b[K\n",
            "remote: Compressing objects: 100% (42/42), done.\u001b[K\n",
            "remote: Total 78 (delta 27), reused 68 (delta 17), pack-reused 0\u001b[K\n",
            "Unpacking objects: 100% (78/78), done.\n",
            "/content/S.I.D.E\n"
          ],
          "name": "stdout"
        }
      ]
    },
    {
      "cell_type": "code",
      "metadata": {
        "id": "tOpUVn0jz2fD",
        "colab_type": "code",
        "outputId": "d84fea1a-aeed-459f-822f-725de1c2ed44",
        "colab": {
          "base_uri": "https://localhost:8080/",
          "height": 564
        }
      },
      "source": [
        "!pip install efficientnet\n",
        "!pip install annoy"
      ],
      "execution_count": 3,
      "outputs": [
        {
          "output_type": "stream",
          "text": [
            "Collecting efficientnet\n",
            "  Downloading https://files.pythonhosted.org/packages/28/91/67848a143b54c331605bfba5fd31cf4e9db13d2e429d103fe807acc3bcf4/efficientnet-1.1.0-py3-none-any.whl\n",
            "Requirement already satisfied: keras-applications<=1.0.8,>=1.0.7 in /tensorflow-2.1.0/python3.6 (from efficientnet) (1.0.8)\n",
            "Requirement already satisfied: scikit-image in /usr/local/lib/python3.6/dist-packages (from efficientnet) (0.16.2)\n",
            "Requirement already satisfied: numpy>=1.9.1 in /tensorflow-2.1.0/python3.6 (from keras-applications<=1.0.8,>=1.0.7->efficientnet) (1.18.1)\n",
            "Requirement already satisfied: h5py in /tensorflow-2.1.0/python3.6 (from keras-applications<=1.0.8,>=1.0.7->efficientnet) (2.10.0)\n",
            "Requirement already satisfied: networkx>=2.0 in /usr/local/lib/python3.6/dist-packages (from scikit-image->efficientnet) (2.4)\n",
            "Requirement already satisfied: PyWavelets>=0.4.0 in /usr/local/lib/python3.6/dist-packages (from scikit-image->efficientnet) (1.1.1)\n",
            "Requirement already satisfied: pillow>=4.3.0 in /usr/local/lib/python3.6/dist-packages (from scikit-image->efficientnet) (6.2.2)\n",
            "Requirement already satisfied: imageio>=2.3.0 in /usr/local/lib/python3.6/dist-packages (from scikit-image->efficientnet) (2.4.1)\n",
            "Requirement already satisfied: scipy>=0.19.0 in /tensorflow-2.1.0/python3.6 (from scikit-image->efficientnet) (1.4.1)\n",
            "Requirement already satisfied: matplotlib!=3.0.0,>=2.0.0 in /usr/local/lib/python3.6/dist-packages (from scikit-image->efficientnet) (3.1.3)\n",
            "Requirement already satisfied: six in /tensorflow-2.1.0/python3.6 (from h5py->keras-applications<=1.0.8,>=1.0.7->efficientnet) (1.14.0)\n",
            "Requirement already satisfied: decorator>=4.3.0 in /usr/local/lib/python3.6/dist-packages (from networkx>=2.0->scikit-image->efficientnet) (4.4.1)\n",
            "Requirement already satisfied: python-dateutil>=2.1 in /usr/local/lib/python3.6/dist-packages (from matplotlib!=3.0.0,>=2.0.0->scikit-image->efficientnet) (2.6.1)\n",
            "Requirement already satisfied: cycler>=0.10 in /usr/local/lib/python3.6/dist-packages (from matplotlib!=3.0.0,>=2.0.0->scikit-image->efficientnet) (0.10.0)\n",
            "Requirement already satisfied: pyparsing!=2.0.4,!=2.1.2,!=2.1.6,>=2.0.1 in /usr/local/lib/python3.6/dist-packages (from matplotlib!=3.0.0,>=2.0.0->scikit-image->efficientnet) (2.4.6)\n",
            "Requirement already satisfied: kiwisolver>=1.0.1 in /usr/local/lib/python3.6/dist-packages (from matplotlib!=3.0.0,>=2.0.0->scikit-image->efficientnet) (1.1.0)\n",
            "Requirement already satisfied: setuptools in /tensorflow-2.1.0/python3.6 (from kiwisolver>=1.0.1->matplotlib!=3.0.0,>=2.0.0->scikit-image->efficientnet) (45.2.0)\n",
            "Installing collected packages: efficientnet\n",
            "Successfully installed efficientnet-1.1.0\n",
            "Collecting annoy\n",
            "\u001b[?25l  Downloading https://files.pythonhosted.org/packages/00/15/5a9db225ebda93a235aebd5e42bbf83ab7035e7e4783c6cb528c635c9afb/annoy-1.16.3.tar.gz (644kB)\n",
            "\u001b[K     |████████████████████████████████| 645kB 2.7MB/s \n",
            "\u001b[?25hBuilding wheels for collected packages: annoy\n",
            "  Building wheel for annoy (setup.py) ... \u001b[?25l\u001b[?25hdone\n",
            "  Created wheel for annoy: filename=annoy-1.16.3-cp36-cp36m-linux_x86_64.whl size=297372 sha256=c16d0491af7ac6938cbf5edbbeb2afc4c17639fa847951503c8c4b7b4536985e\n",
            "  Stored in directory: /root/.cache/pip/wheels/f3/01/54/6ef760fe9f9fc6ba8c19cebbe6358212b5f3b5b0195c0b813f\n",
            "Successfully built annoy\n",
            "Installing collected packages: annoy\n",
            "Successfully installed annoy-1.16.3\n"
          ],
          "name": "stdout"
        }
      ]
    },
    {
      "cell_type": "code",
      "metadata": {
        "id": "2i0NvTYQyhei",
        "colab_type": "code",
        "outputId": "40a9113c-1e27-44ea-ac4f-1055343f734b",
        "colab": {
          "base_uri": "https://localhost:8080/",
          "height": 34
        }
      },
      "source": [
        "import os\n",
        "import sys\n",
        "import glob\n",
        "\n",
        "from tqdm import tqdm\n",
        "\n",
        "import numpy as np\n",
        "from skimage import io\n",
        "import matplotlib.pyplot as plt\n",
        "sys.path.append('..')\n",
        "from annoy import AnnoyIndex\n",
        "from tensorflow.keras.models import Model\n",
        "from tensorflow.keras.preprocessing import image\n",
        "from model.model import *\n",
        "from index_search.index_search import *\n",
        "from utils.utils import *"
      ],
      "execution_count": 4,
      "outputs": [
        {
          "output_type": "stream",
          "text": [
            "Using TensorFlow backend.\n"
          ],
          "name": "stderr"
        }
      ]
    },
    {
      "cell_type": "code",
      "metadata": {
        "id": "OQ_Bx04u4ntd",
        "colab_type": "code",
        "colab": {}
      },
      "source": [
        "model = get_sentence_encoder(4)"
      ],
      "execution_count": 0,
      "outputs": []
    },
    {
      "cell_type": "code",
      "metadata": {
        "id": "BqVMfchH_qt0",
        "colab_type": "code",
        "outputId": "c66825e5-6926-47c1-abf7-a4480f102904",
        "colab": {
          "base_uri": "https://localhost:8080/",
          "height": 204
        }
      },
      "source": [
        "!wget https://raw.githubusercontent.com/xhu4/sentences/master/data/1M.txt"
      ],
      "execution_count": 6,
      "outputs": [
        {
          "output_type": "stream",
          "text": [
            "--2020-03-14 14:34:25--  https://raw.githubusercontent.com/xhu4/sentences/master/data/1M.txt\n",
            "Resolving raw.githubusercontent.com (raw.githubusercontent.com)... 151.101.0.133, 151.101.64.133, 151.101.128.133, ...\n",
            "Connecting to raw.githubusercontent.com (raw.githubusercontent.com)|151.101.0.133|:443... connected.\n",
            "HTTP request sent, awaiting response... 200 OK\n",
            "Length: 89374880 (85M) [text/plain]\n",
            "Saving to: ‘1M.txt’\n",
            "\n",
            "1M.txt              100%[===================>]  85.23M  82.1MB/s    in 1.0s    \n",
            "\n",
            "2020-03-14 14:34:31 (82.1 MB/s) - ‘1M.txt’ saved [89374880/89374880]\n",
            "\n"
          ],
          "name": "stdout"
        }
      ]
    },
    {
      "cell_type": "code",
      "metadata": {
        "id": "1KHdcnW7_vNZ",
        "colab_type": "code",
        "colab": {}
      },
      "source": [
        "with open('1M.txt') as f:\n",
        "    lines = f.read().splitlines()"
      ],
      "execution_count": 0,
      "outputs": []
    },
    {
      "cell_type": "code",
      "metadata": {
        "id": "O9fzaAKoHQId",
        "colab_type": "code",
        "outputId": "7e6533c2-e5fe-4698-df69-d9eab34e4fee",
        "colab": {
          "base_uri": "https://localhost:8080/",
          "height": 34
        }
      },
      "source": [
        "lines[4]"
      ],
      "execution_count": 8,
      "outputs": [
        {
          "output_type": "execute_result",
          "data": {
            "text/plain": [
              "'we had been inside for only a few minutes before people began throwing bricks at the building'"
            ]
          },
          "metadata": {
            "tags": []
          },
          "execution_count": 8
        }
      ]
    },
    {
      "cell_type": "code",
      "metadata": {
        "id": "eM-Ls9cTB4f6",
        "colab_type": "code",
        "outputId": "9ec7eeed-c86a-4f5c-f78e-a5332d7642d4",
        "colab": {
          "base_uri": "https://localhost:8080/",
          "height": 51
        }
      },
      "source": [
        "%%time\n",
        "embeddings = generate_sentence_embeddings(lines[:23000], model)"
      ],
      "execution_count": 9,
      "outputs": [
        {
          "output_type": "stream",
          "text": [
            "CPU times: user 11.8 s, sys: 3.8 s, total: 15.6 s\n",
            "Wall time: 11.3 s\n"
          ],
          "name": "stdout"
        }
      ]
    },
    {
      "cell_type": "code",
      "metadata": {
        "id": "7WGlApjYOoru",
        "colab_type": "code",
        "outputId": "c28a00fd-127f-48ad-c0e9-1afa52a207c9",
        "colab": {
          "base_uri": "https://localhost:8080/",
          "height": 68
        }
      },
      "source": [
        "%%time\n",
        "annoy_indexer = build_annoy_index(np.asarray(embeddings), embeddings[0].shape[0], 100)"
      ],
      "execution_count": 10,
      "outputs": [
        {
          "output_type": "stream",
          "text": [
            "23000it [00:01, 14804.24it/s]\n"
          ],
          "name": "stderr"
        },
        {
          "output_type": "stream",
          "text": [
            "CPU times: user 5.64 s, sys: 0 ns, total: 5.64 s\n",
            "Wall time: 5.63 s\n"
          ],
          "name": "stdout"
        }
      ]
    },
    {
      "cell_type": "code",
      "metadata": {
        "id": "VBN_HfqW5QOM",
        "colab_type": "code",
        "colab": {}
      },
      "source": [
        "distances = nns_for_sentence('I am craving Ice cream', model, annoy_indexer, 20)"
      ],
      "execution_count": 0,
      "outputs": []
    },
    {
      "cell_type": "code",
      "metadata": {
        "id": "3lD2Xl5b5QGj",
        "colab_type": "code",
        "colab": {
          "base_uri": "https://localhost:8080/",
          "height": 187
        },
        "outputId": "4679da83-9172-47d3-bf9d-62e72a240357"
      },
      "source": [
        "for i in range(5):\n",
        "    print(lines[distances[0][i]])\n",
        "    print(\"Similarity score: \"+str(distances[1][i]))"
      ],
      "execution_count": 12,
      "outputs": [
        {
          "output_type": "stream",
          "text": [
            "stinky ice cream\n",
            "Similarity score: 0.888798713684082\n",
            "i like chocolate\n",
            "Similarity score: 1.0517606735229492\n",
            "were celebrating get us two hot fudge sundaes will you\n",
            "Similarity score: 1.0767784118652344\n",
            "no matter how much i eat im still thirsty\n",
            "Similarity score: 1.0981719493865967\n",
            "ive got some cream for that\n",
            "Similarity score: 1.1075457334518433\n"
          ],
          "name": "stdout"
        }
      ]
    },
    {
      "cell_type": "code",
      "metadata": {
        "id": "VWXxp2zhZ7_i",
        "colab_type": "code",
        "colab": {}
      },
      "source": [
        "distances = nns_for_sentence('Bahushruth is the greatest developer', model, annoy_indexer, 20)"
      ],
      "execution_count": 0,
      "outputs": []
    },
    {
      "cell_type": "code",
      "metadata": {
        "id": "zVLpm-N6Z-NR",
        "colab_type": "code",
        "colab": {
          "base_uri": "https://localhost:8080/",
          "height": 187
        },
        "outputId": "86552cac-12ec-46e2-b0dd-bc30cafef68d"
      },
      "source": [
        "for i in range(5):\n",
        "    print(lines[distances[0][i]])\n",
        "    print(\"Similarity score: \"+str(distances[1][i]))"
      ],
      "execution_count": 16,
      "outputs": [
        {
          "output_type": "stream",
          "text": [
            "this is by far the biggest\n",
            "Similarity score: 1.1013377904891968\n",
            "one of the highest paid players in the game\n",
            "Similarity score: 1.1433320045471191\n",
            "the vast majority of editors are incorruptible\n",
            "Similarity score: 1.1576964855194092\n",
            "the vast majority of editors are incorruptible\n",
            "Similarity score: 1.1576964855194092\n",
            "the vast majority of editors are incorruptible\n",
            "Similarity score: 1.1576964855194092\n"
          ],
          "name": "stdout"
        }
      ]
    }
  ]
}