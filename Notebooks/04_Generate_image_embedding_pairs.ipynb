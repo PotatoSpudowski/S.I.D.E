{
  "nbformat": 4,
  "nbformat_minor": 0,
  "metadata": {
    "colab": {
      "name": "04-Generate_image_embedding_pairs.ipynb",
      "provenance": [],
      "collapsed_sections": []
    },
    "kernelspec": {
      "name": "python3",
      "display_name": "Python 3"
    }
  },
  "cells": [
    {
      "cell_type": "code",
      "metadata": {
        "id": "J01fVrDe7AdD",
        "colab_type": "code",
        "outputId": "3655940a-4627-4b30-aa61-e049f956cc30",
        "colab": {
          "base_uri": "https://localhost:8080/",
          "height": 34
        }
      },
      "source": [
        "%tensorflow_version 2.x"
      ],
      "execution_count": 1,
      "outputs": [
        {
          "output_type": "stream",
          "text": [
            "TensorFlow 2.x selected.\n"
          ],
          "name": "stdout"
        }
      ]
    },
    {
      "cell_type": "code",
      "metadata": {
        "id": "Nm9UriwG7GRu",
        "colab_type": "code",
        "outputId": "d72bd727-f52a-48c7-84bf-65b2c99faa7e",
        "colab": {
          "base_uri": "https://localhost:8080/",
          "height": 136
        }
      },
      "source": [
        "!git clone https://github.com/PotatoSpudowski/S.I.D.E.git\n",
        "%cd S.I.D.E"
      ],
      "execution_count": 2,
      "outputs": [
        {
          "output_type": "stream",
          "text": [
            "Cloning into 'S.I.D.E'...\n",
            "remote: Enumerating objects: 86, done.\u001b[K\n",
            "remote: Counting objects: 100% (86/86), done.\u001b[K\n",
            "remote: Compressing objects: 100% (47/47), done.\u001b[K\n",
            "remote: Total 86 (delta 31), reused 74 (delta 19), pack-reused 0\u001b[K\n",
            "Unpacking objects: 100% (86/86), done.\n",
            "/content/S.I.D.E\n"
          ],
          "name": "stdout"
        }
      ]
    },
    {
      "cell_type": "code",
      "metadata": {
        "id": "rapvXz0g7KOJ",
        "colab_type": "code",
        "outputId": "1589c119-ee82-4254-d38e-56c3ee86663c",
        "colab": {
          "base_uri": "https://localhost:8080/",
          "height": 564
        }
      },
      "source": [
        "!pip install efficientnet\n",
        "!pip install annoy"
      ],
      "execution_count": 3,
      "outputs": [
        {
          "output_type": "stream",
          "text": [
            "Collecting efficientnet\n",
            "  Downloading https://files.pythonhosted.org/packages/28/91/67848a143b54c331605bfba5fd31cf4e9db13d2e429d103fe807acc3bcf4/efficientnet-1.1.0-py3-none-any.whl\n",
            "Requirement already satisfied: keras-applications<=1.0.8,>=1.0.7 in /usr/local/lib/python3.6/dist-packages (from efficientnet) (1.0.8)\n",
            "Requirement already satisfied: scikit-image in /usr/local/lib/python3.6/dist-packages (from efficientnet) (0.16.2)\n",
            "Requirement already satisfied: h5py in /usr/local/lib/python3.6/dist-packages (from keras-applications<=1.0.8,>=1.0.7->efficientnet) (2.8.0)\n",
            "Requirement already satisfied: numpy>=1.9.1 in /usr/local/lib/python3.6/dist-packages (from keras-applications<=1.0.8,>=1.0.7->efficientnet) (1.18.1)\n",
            "Requirement already satisfied: pillow>=4.3.0 in /usr/local/lib/python3.6/dist-packages (from scikit-image->efficientnet) (7.0.0)\n",
            "Requirement already satisfied: matplotlib!=3.0.0,>=2.0.0 in /usr/local/lib/python3.6/dist-packages (from scikit-image->efficientnet) (3.2.0)\n",
            "Requirement already satisfied: networkx>=2.0 in /usr/local/lib/python3.6/dist-packages (from scikit-image->efficientnet) (2.4)\n",
            "Requirement already satisfied: imageio>=2.3.0 in /usr/local/lib/python3.6/dist-packages (from scikit-image->efficientnet) (2.4.1)\n",
            "Requirement already satisfied: scipy>=0.19.0 in /usr/local/lib/python3.6/dist-packages (from scikit-image->efficientnet) (1.4.1)\n",
            "Requirement already satisfied: PyWavelets>=0.4.0 in /usr/local/lib/python3.6/dist-packages (from scikit-image->efficientnet) (1.1.1)\n",
            "Requirement already satisfied: six in /usr/local/lib/python3.6/dist-packages (from h5py->keras-applications<=1.0.8,>=1.0.7->efficientnet) (1.12.0)\n",
            "Requirement already satisfied: python-dateutil>=2.1 in /usr/local/lib/python3.6/dist-packages (from matplotlib!=3.0.0,>=2.0.0->scikit-image->efficientnet) (2.8.1)\n",
            "Requirement already satisfied: pyparsing!=2.0.4,!=2.1.2,!=2.1.6,>=2.0.1 in /usr/local/lib/python3.6/dist-packages (from matplotlib!=3.0.0,>=2.0.0->scikit-image->efficientnet) (2.4.6)\n",
            "Requirement already satisfied: cycler>=0.10 in /usr/local/lib/python3.6/dist-packages (from matplotlib!=3.0.0,>=2.0.0->scikit-image->efficientnet) (0.10.0)\n",
            "Requirement already satisfied: kiwisolver>=1.0.1 in /usr/local/lib/python3.6/dist-packages (from matplotlib!=3.0.0,>=2.0.0->scikit-image->efficientnet) (1.1.0)\n",
            "Requirement already satisfied: decorator>=4.3.0 in /usr/local/lib/python3.6/dist-packages (from networkx>=2.0->scikit-image->efficientnet) (4.4.2)\n",
            "Requirement already satisfied: setuptools in /usr/local/lib/python3.6/dist-packages (from kiwisolver>=1.0.1->matplotlib!=3.0.0,>=2.0.0->scikit-image->efficientnet) (45.2.0)\n",
            "Installing collected packages: efficientnet\n",
            "Successfully installed efficientnet-1.1.0\n",
            "Collecting annoy\n",
            "\u001b[?25l  Downloading https://files.pythonhosted.org/packages/00/15/5a9db225ebda93a235aebd5e42bbf83ab7035e7e4783c6cb528c635c9afb/annoy-1.16.3.tar.gz (644kB)\n",
            "\u001b[K     |████████████████████████████████| 645kB 2.6MB/s \n",
            "\u001b[?25hBuilding wheels for collected packages: annoy\n",
            "  Building wheel for annoy (setup.py) ... \u001b[?25l\u001b[?25hdone\n",
            "  Created wheel for annoy: filename=annoy-1.16.3-cp36-cp36m-linux_x86_64.whl size=297347 sha256=e00295d6cd77e23c8ec64a2002a46ca06ad3c649d35da2f9fafea1b9064f8558\n",
            "  Stored in directory: /root/.cache/pip/wheels/f3/01/54/6ef760fe9f9fc6ba8c19cebbe6358212b5f3b5b0195c0b813f\n",
            "Successfully built annoy\n",
            "Installing collected packages: annoy\n",
            "Successfully installed annoy-1.16.3\n"
          ],
          "name": "stdout"
        }
      ]
    },
    {
      "cell_type": "code",
      "metadata": {
        "id": "ULhyyJxq7NC3",
        "colab_type": "code",
        "colab": {
          "base_uri": "https://localhost:8080/",
          "height": 122
        },
        "outputId": "b61921ef-d134-4908-f43f-2358c003a731"
      },
      "source": [
        "from google.colab import drive\n",
        "drive.mount(\"/content/drive\", force_remount=True)"
      ],
      "execution_count": 4,
      "outputs": [
        {
          "output_type": "stream",
          "text": [
            "Go to this URL in a browser: https://accounts.google.com/o/oauth2/auth?client_id=947318989803-6bn6qk8qdgf4n4g3pfee6491hc0brc4i.apps.googleusercontent.com&redirect_uri=urn%3aietf%3awg%3aoauth%3a2.0%3aoob&response_type=code&scope=email%20https%3a%2f%2fwww.googleapis.com%2fauth%2fdocs.test%20https%3a%2f%2fwww.googleapis.com%2fauth%2fdrive%20https%3a%2f%2fwww.googleapis.com%2fauth%2fdrive.photos.readonly%20https%3a%2f%2fwww.googleapis.com%2fauth%2fpeopleapi.readonly\n",
            "\n",
            "Enter your authorization code:\n",
            "··········\n",
            "Mounted at /content/drive\n"
          ],
          "name": "stdout"
        }
      ]
    },
    {
      "cell_type": "code",
      "metadata": {
        "id": "c760vzk_VyV6",
        "colab_type": "code",
        "colab": {}
      },
      "source": [
        "!cp '/content/drive/My Drive/GCC/Ignore_list.csv' 'Data/'\n",
        "!cp '/content/drive/My Drive/GCC/val_data.csv' 'Data/'\n",
        "!cp '/content/drive/My Drive/GCC/validation.zip' 'Data/'"
      ],
      "execution_count": 0,
      "outputs": []
    },
    {
      "cell_type": "code",
      "metadata": {
        "id": "cLB3H_tfdb9L",
        "colab_type": "code",
        "colab": {}
      },
      "source": [
        "!unzip 'Data/validation.zip'"
      ],
      "execution_count": 0,
      "outputs": []
    },
    {
      "cell_type": "code",
      "metadata": {
        "id": "kHTu6w47YbsM",
        "colab_type": "code",
        "colab": {
          "base_uri": "https://localhost:8080/",
          "height": 34
        },
        "outputId": "b58ef442-baa5-4955-b170-fb232efbc092"
      },
      "source": [
        "import os\n",
        "import sys\n",
        "\n",
        "sys.path.append('..')\n",
        "\n",
        "from model.model import *\n",
        "from index_search.index_search import *\n",
        "from utils.utils import *"
      ],
      "execution_count": 7,
      "outputs": [
        {
          "output_type": "stream",
          "text": [
            "Using TensorFlow backend.\n"
          ],
          "name": "stderr"
        }
      ]
    },
    {
      "cell_type": "code",
      "metadata": {
        "id": "XkiGSdsrX3FE",
        "colab_type": "code",
        "colab": {}
      },
      "source": [
        "df_path = \"Data/val_data.csv\"\n",
        "ignore_df_path = \"Data/Ignore_list.csv\""
      ],
      "execution_count": 0,
      "outputs": []
    },
    {
      "cell_type": "code",
      "metadata": {
        "id": "J3s6Sgw3k357",
        "colab_type": "code",
        "colab": {}
      },
      "source": [
        "df = clean_data(df_path, ignore_df_path)"
      ],
      "execution_count": 0,
      "outputs": []
    },
    {
      "cell_type": "code",
      "metadata": {
        "id": "uJLeIfGNhjFY",
        "colab_type": "code",
        "colab": {}
      },
      "source": [
        "model = get_sentence_encoder(4)"
      ],
      "execution_count": 0,
      "outputs": []
    },
    {
      "cell_type": "code",
      "metadata": {
        "id": "n-tNh5wOhn3I",
        "colab_type": "code",
        "colab": {}
      },
      "source": [
        "mapping = generate_image_embedding_pair(df, model)"
      ],
      "execution_count": 0,
      "outputs": []
    },
    {
      "cell_type": "code",
      "metadata": {
        "id": "mQ7uplftna2s",
        "colab_type": "code",
        "colab": {
          "base_uri": "https://localhost:8080/",
          "height": 1000
        },
        "outputId": "73ffa82b-4517-4576-e384-dad137cf652c"
      },
      "source": [
        "print(\"Image: \", mapping[0][0])\n",
        "print(\"Embedding: \", mapping[0][1])"
      ],
      "execution_count": 14,
      "outputs": [
        {
          "output_type": "stream",
          "text": [
            "Image:  validation/Clearwater-Crossing-Shopping-Center-sign-Indianapolis-Indiana.jpg\n",
            "Embedding:  tf.Tensor(\n",
            "[ 2.53905877e-02  3.21025848e-02 -5.45074753e-02  4.68080444e-03\n",
            " -8.16693529e-03  1.54621778e-02 -4.27414738e-02  9.98058766e-02\n",
            "  2.48788446e-02 -4.22965437e-02  2.98991930e-02 -7.96434283e-02\n",
            "  3.78425717e-02 -3.01000737e-02  5.51758856e-02 -6.84034154e-02\n",
            "  8.25428125e-03 -5.08229695e-02  8.51492509e-02  2.96024010e-02\n",
            " -8.04320071e-03  5.91733530e-02  7.06206560e-02 -8.26347843e-02\n",
            "  7.57722706e-02  5.09514986e-03  4.22729030e-02  2.40280014e-02\n",
            "  2.55803317e-02 -7.24745542e-02 -2.66882237e-02  6.59405962e-02\n",
            " -1.17885033e-02 -6.86409026e-02 -9.40490440e-02 -5.67553714e-02\n",
            "  6.90633804e-02 -2.13237777e-02  6.21191971e-02 -5.10851368e-02\n",
            " -2.74347309e-02 -5.81094772e-02  2.34503485e-02 -6.52914271e-02\n",
            " -6.72279224e-02 -4.97982204e-02  7.78026413e-03 -5.22024045e-03\n",
            "  9.54101458e-02 -2.88248323e-02 -5.51740862e-02 -3.31830010e-02\n",
            "  5.78102358e-02 -2.97407787e-02 -5.59142092e-03 -7.81123340e-02\n",
            "  2.64639594e-02 -2.79887952e-02  1.40141854e-02 -7.28473961e-02\n",
            " -2.38421392e-02  4.64113317e-02 -6.56490102e-02  5.99416485e-03\n",
            " -3.25689875e-02  6.40687859e-03  6.77315146e-02  3.93825099e-02\n",
            " -8.49686712e-02  8.62888396e-02  1.02147264e-02  4.44762893e-02\n",
            "  4.57541607e-02 -6.47149682e-02  2.46909005e-03 -4.83581163e-02\n",
            " -4.84336168e-02 -1.60221048e-02  5.59523366e-02 -6.49372786e-02\n",
            "  3.49043347e-02  1.38510270e-02 -1.94921382e-02  6.13129996e-02\n",
            " -8.05075914e-02  1.01345647e-02 -3.30001749e-02  8.00549611e-02\n",
            " -5.43203801e-02  2.38704886e-02 -5.13767116e-02 -1.02654174e-02\n",
            " -1.84146315e-02  5.96021153e-02  2.38333512e-02 -6.69654831e-02\n",
            " -7.10557178e-02 -1.13786422e-02  5.76537848e-02  1.25454804e-02\n",
            " -1.97929163e-02  4.96781245e-02 -5.52613698e-02 -2.37845257e-02\n",
            "  5.44431694e-02 -2.41825785e-02  1.16752133e-04  2.96603795e-03\n",
            " -8.22226629e-02 -2.17002016e-02 -7.05734044e-02 -2.15893667e-02\n",
            " -2.76226271e-02 -3.16226818e-02 -4.77594510e-02  2.57050502e-03\n",
            "  7.30870366e-02  6.45527318e-02 -6.68169037e-02 -3.61266211e-02\n",
            "  2.39001052e-03  5.82210198e-02  3.85624021e-02  7.08485469e-02\n",
            "  1.02052214e-02 -2.53593978e-02  1.34714870e-02 -3.82546410e-02\n",
            "  5.09952456e-02  1.39717702e-02 -1.34818908e-02 -1.51657891e-02\n",
            " -3.94219048e-02  1.96799524e-02 -2.16489360e-02 -1.26659116e-02\n",
            " -1.08339414e-02  1.26124769e-02 -2.79446449e-02  4.98920819e-03\n",
            "  1.80903021e-02  5.19974083e-02  3.80346738e-02 -3.72060924e-04\n",
            "  7.94097222e-03 -3.60199027e-02  1.91267952e-02 -7.03116655e-02\n",
            " -8.00399631e-02  1.86698660e-02  4.35311124e-02 -1.90831944e-02\n",
            "  6.81356266e-02 -1.21957948e-02 -8.12546685e-02  2.62424117e-03\n",
            "  9.35065895e-02 -9.51924101e-02 -7.18391687e-02  4.67952825e-02\n",
            "  2.46224049e-02  1.59752555e-02  1.49147480e-03 -5.43484138e-03\n",
            " -4.22295928e-02  8.75520855e-02  4.24241982e-02  7.18734711e-02\n",
            "  2.51948135e-03 -4.49271426e-02  5.63743412e-02 -8.72689933e-02\n",
            "  2.13427804e-02 -2.17147265e-02 -5.26466640e-03  3.02183870e-02\n",
            " -8.58323369e-03 -1.83948725e-02 -3.52362879e-02  2.44170949e-02\n",
            " -4.99508791e-02  1.41440695e-02  5.07306494e-03 -2.73527950e-02\n",
            "  2.90623424e-03 -1.73261892e-02 -7.65348459e-03 -3.98789649e-04\n",
            "  6.44100225e-03 -2.47742832e-02 -4.93097566e-02 -2.78768837e-02\n",
            " -2.64000054e-02 -3.69467493e-03 -1.76710207e-02  3.54844853e-02\n",
            "  1.71430130e-02 -7.67642725e-03  3.29528451e-02  6.45258352e-02\n",
            "  3.58359097e-03  4.08902355e-02  3.91672663e-02 -2.87979245e-02\n",
            "  5.05521111e-02 -4.10664454e-02 -6.92204088e-02 -5.31809777e-03\n",
            " -3.76356691e-02  3.11067887e-02  1.22457715e-02 -3.15847993e-03\n",
            "  4.89837080e-02 -2.91859359e-02  5.93787134e-02 -7.49086309e-03\n",
            " -8.15162808e-03  3.31818797e-02 -3.28522921e-02  3.00799329e-02\n",
            "  3.59883606e-02 -3.02109122e-02  6.88094720e-02  1.39476238e-02\n",
            "  2.05137804e-02 -8.73568095e-03  6.58588260e-02 -2.57970840e-02\n",
            "  3.90762165e-02  6.16225936e-02  1.97018757e-02  4.00694413e-03\n",
            " -1.91052873e-02  2.85520647e-02 -2.39033792e-02  1.13880960e-02\n",
            "  2.36490145e-02 -1.87305398e-02 -2.67721154e-02  9.65907890e-03\n",
            "  3.03956140e-02  5.42092770e-02  7.25402012e-02 -4.61685695e-02\n",
            " -1.01430137e-02  2.56264023e-02  6.75241873e-02  7.99938515e-02\n",
            "  3.10915150e-02  1.91533566e-02  1.17874490e-02 -1.02190152e-02\n",
            "  1.94429085e-02 -1.05447071e-02 -6.02731109e-03  1.22766653e-02\n",
            " -4.81189182e-03 -8.11078474e-02 -1.24134878e-02 -8.07761098e-05\n",
            " -2.03270726e-02  1.10586232e-03  1.81564204e-02  5.15384041e-02\n",
            " -4.35742289e-02  5.93970865e-02  5.09479502e-03 -5.58150224e-02\n",
            " -3.13949063e-02  2.82135401e-02 -4.60197702e-02 -1.31449122e-02\n",
            "  3.48172411e-02 -2.46924944e-02  4.50726300e-02  7.44225383e-02\n",
            "  4.85509448e-02 -1.05200425e-01 -5.53418137e-02 -2.54800003e-02\n",
            " -4.54643816e-02 -8.01267028e-02  6.95413128e-02  7.02500492e-02\n",
            " -3.76001634e-02 -2.78718229e-02 -2.88903434e-02  6.94332197e-02\n",
            " -4.33857255e-02  7.73581192e-02 -1.01610459e-02 -2.56686360e-02\n",
            " -3.02066561e-03  7.35219494e-02 -1.91894192e-02  2.55416203e-02\n",
            "  6.26090169e-02  4.84134406e-02  5.15154749e-02 -1.59035176e-02\n",
            " -3.46021503e-02  6.15625344e-02  3.05658914e-02  1.29511021e-02\n",
            "  7.71489516e-02  2.28353031e-02 -5.56429811e-02 -2.51852348e-02\n",
            "  3.31119187e-02  1.74077917e-02  5.61166964e-02 -2.27682125e-02\n",
            "  5.45242280e-02  1.06467381e-02 -3.18980962e-02 -4.65930179e-02\n",
            " -1.99331641e-02  3.90589349e-02 -3.57753634e-02  2.10858528e-02\n",
            "  2.75270944e-03  6.93153068e-02 -1.34705780e-02 -1.29273012e-02\n",
            "  6.66096658e-02  9.62838903e-02 -6.30440041e-02  4.20034118e-02\n",
            "  1.19556515e-02 -1.39171723e-02  4.61073779e-02 -6.85317814e-02\n",
            " -1.83907226e-02 -5.50267436e-02  3.01745683e-02 -2.80642491e-02\n",
            " -4.39973846e-02 -6.81459010e-02  5.01572937e-02 -5.52172698e-02\n",
            " -2.16703266e-02 -4.25185151e-02 -3.03755719e-02  2.84092668e-02\n",
            "  8.88887327e-04  1.41118495e-02  6.01759646e-03  2.76591741e-02\n",
            " -4.23553064e-02  1.03090763e-01  6.36129975e-02  1.85745358e-02\n",
            " -6.67156577e-02 -2.10900344e-02 -4.85816635e-02  1.49358027e-02\n",
            " -8.87853131e-02  7.75313824e-02 -4.21827585e-02  2.46086325e-02\n",
            "  1.40972687e-02  9.05250534e-02  2.18565557e-02 -8.42899922e-03\n",
            "  1.09557416e-02  4.78632674e-02  2.13638507e-02 -3.55865024e-02\n",
            "  5.50747849e-03  3.21798511e-02 -4.50520916e-03 -5.96868843e-02\n",
            "  1.08879777e-02  5.99344000e-02 -1.81008745e-02  9.63655487e-03\n",
            "  9.34514310e-03  3.29753533e-02  5.08340541e-03  6.28704503e-02\n",
            "  1.85441710e-02  5.37412502e-02 -1.81172807e-02  6.52106432e-03\n",
            "  6.33163704e-03 -5.84895834e-02 -6.05595000e-02 -6.67301267e-02\n",
            " -5.28942188e-03 -1.77801587e-02 -3.55983116e-02  5.24667054e-02\n",
            " -1.87127367e-02 -2.54744962e-02  1.83997378e-02 -2.76159905e-02\n",
            " -2.43166778e-02  7.67355859e-02 -4.60884646e-02  3.82740254e-04\n",
            "  1.59307383e-02  1.92164797e-02 -7.27651790e-02  5.43473549e-02\n",
            "  1.95208732e-02 -4.86570522e-02 -4.85774502e-02 -8.56901109e-02\n",
            "  1.99015234e-02 -5.88741638e-02 -1.33617213e-02 -7.32272118e-02\n",
            " -3.89630571e-02  6.09829538e-02 -4.50342186e-02  2.65724082e-02\n",
            "  1.13496613e-02 -4.82676029e-02  3.70970555e-02 -7.68552795e-02\n",
            "  5.53641319e-02 -4.01185192e-02  7.58854896e-02 -2.30000224e-02\n",
            "  1.38462735e-02 -2.06717271e-02 -5.24242073e-02 -6.62556440e-02\n",
            "  2.66114194e-02  5.09891585e-02 -6.09119795e-02  4.67020012e-02\n",
            " -5.13003357e-02 -4.34812792e-02 -2.33893041e-02 -4.21224162e-02\n",
            " -7.42394524e-03 -1.70494057e-02 -3.79850157e-02 -1.46222459e-02\n",
            "  6.00647274e-03 -7.54603967e-02  2.43350305e-02 -1.08556766e-02\n",
            "  6.00904413e-02 -4.78912219e-02  2.17579715e-02  5.20010479e-02\n",
            "  2.23539886e-03  8.33889283e-03 -2.30094930e-03  3.19533199e-02\n",
            "  1.43568125e-02  1.59627534e-02 -5.29260114e-02 -2.96540130e-02\n",
            " -7.98265040e-02 -3.39928418e-02 -8.33471566e-02  3.89469787e-02\n",
            "  9.76963621e-03  5.81768863e-02 -1.33247059e-02 -1.03819333e-02\n",
            "  7.92315044e-03 -1.75612085e-02 -1.47638386e-02  4.05529067e-02\n",
            "  6.92971647e-02  2.41178777e-02 -2.24301200e-02  4.59909774e-02\n",
            "  1.43784583e-02 -3.23245041e-02  9.90787800e-03 -1.78614352e-02\n",
            "  2.84194276e-02  1.63779799e-02 -6.16573915e-02 -9.66124758e-02\n",
            "  3.96958068e-02 -1.00049470e-02  5.62049821e-02 -1.73279829e-02\n",
            "  1.34661514e-02 -6.59006163e-02  1.45036643e-02 -1.41531285e-02\n",
            "  7.91201591e-02 -2.50295829e-02 -1.13303270e-02 -8.60629510e-03\n",
            "  1.65294316e-02 -1.89589569e-03  7.89114684e-02 -3.97769287e-02\n",
            "  1.44934570e-02 -4.17912006e-02 -6.86111599e-02 -9.80908889e-03\n",
            " -7.75714964e-02  1.04348406e-01 -5.50988317e-02  4.39314842e-02\n",
            "  5.95050342e-02  5.24150021e-02  5.40754385e-02  6.19010739e-02\n",
            " -2.80927420e-02 -4.24077399e-02 -3.45532931e-02  5.64904511e-02], shape=(512,), dtype=float32)\n"
          ],
          "name": "stdout"
        }
      ]
    },
    {
      "cell_type": "code",
      "metadata": {
        "id": "umR-uYNLoNpA",
        "colab_type": "code",
        "colab": {}
      },
      "source": [
        "import pickle"
      ],
      "execution_count": 0,
      "outputs": []
    },
    {
      "cell_type": "code",
      "metadata": {
        "id": "p8QAdcsqoVWS",
        "colab_type": "code",
        "colab": {}
      },
      "source": [
        "with open(\"val_data_mapping.pkl\", \"wb\") as fp:\n",
        "    pickle.dump(mapping, fp)"
      ],
      "execution_count": 0,
      "outputs": []
    },
    {
      "cell_type": "code",
      "metadata": {
        "id": "fZyngWK0okIo",
        "colab_type": "code",
        "colab": {}
      },
      "source": [
        "!cp 'val_data_mapping.pkl' '/content/drive/My Drive/GCC/' "
      ],
      "execution_count": 0,
      "outputs": []
    }
  ]
}